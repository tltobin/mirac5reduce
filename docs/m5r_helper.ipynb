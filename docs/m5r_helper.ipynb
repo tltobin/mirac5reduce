{
 "cells": [
  {
   "cell_type": "markdown",
   "id": "6d5800b9",
   "metadata": {},
   "source": [
    "# MIRAC-5 Reduce Helper\n",
    "\n",
    "This jupyter notebook is intended to both provide instructions on how to use the mirac5reduce package and serve as a simple user interface for performing their own simple reductions.\n",
    "\n",
    "To use this notebook, always start with the first two sections:\n",
    "\n",
    "1. [Set Up the Config File](#setup-config)\n",
    "\n",
    "2. [Set Up Python Environment](#setup-pyenv)\n",
    "\n",
    "The remaining sections can be accessed as needed to perform various tasks:\n",
    "\n",
    "3. [Calculate Mean Dark File](#calc-meandark)\n",
    "\n",
    "4. [Create Bad Pixel Mask](#calc-bpmask)\n",
    "\n",
    "5. [Create Flatfield File](#calc-flatfield)\n",
    "\n",
    "6. [Create Mean Flat File](#calc-meanflat)\n",
    "\n",
    "7. [Reduce Chop/Nod Observations](#reduce-chopnod)\n",
    "\n",
    "8. [Reduce Staring Mode Observation](#reduce-staring)\n"
   ]
  },
  {
   "cell_type": "markdown",
   "id": "e1215390",
   "metadata": {},
   "source": [
    "<a id=\"setup-config\"></a>\n",
    "## Set Up the Config File\n",
    "\n",
    "First, you will want to create your own copy of the config file and edit it. \n",
    "\n",
    "The sample config file is provided as part of the mirac5reduce package under `docs/runparams.init`. \n",
    "\n",
    "Create a copy of that file, preferably somewhere near where your reduction files will be, though that isn't required. \n",
    "\n",
    "Enter the path and file name of this copy in the following cell to save it as the variable, `config_file`:"
   ]
  },
  {
   "cell_type": "code",
   "execution_count": null,
   "id": "0f0c8f6d",
   "metadata": {},
   "outputs": [],
   "source": [
    "config_file = "
   ]
  },
  {
   "cell_type": "markdown",
   "id": "d7caa08e",
   "metadata": {},
   "source": [
    "Open your config file in your text editor of choice. You will see that it has 4 sections: `[REDUCTION]`, `[CALIB]`, `[COMPUTING]`, and `[DATA_ARCH]`.\n",
    "\n",
    "The last two sections, `[COMPUTING]` and `[DATA_ARCH]` contain parameters that are specific to the computer that you are running the reduction on and the architecture of the data produced by the MIRAC-5 data aqcuisition software, respectively. \n",
    "\n",
    "**Review and set the parameters in the `[COMPUTING]` and `[DATA_ARCH]` sections of your config file:** \n",
    "\n",
    "- Make sure that the `raw_name_fmt` parameter in the `[DATA_ARCH]` section matches the naming convention of the raw files from the telescope.\n",
    "\n",
    "\n",
    "\n",
    "- In the `[COMPUTING]` section, we also recommend enabling memory saving capabilities unless you are on an extremely high-memory machine or are working with unusually small data sets for the instrument. To enable memory saving mode, set `save_mem` in this section to True and set the maximum number of frames instantaneously loaded into the memory with the `max_frames_inmem` key. (The best value depends on your system's memory, but a good starting point is to set this to be around 100-200.)\n",
    "\n",
    "They should not have to change for the rest of the reduction. However, if you find computations are eating up too much memory, you may need to come back and adjust your `max_frames_inmem` setting. Descriptions are provided in the template config file. "
   ]
  },
  {
   "cell_type": "markdown",
   "id": "3cfdf7c4",
   "metadata": {},
   "source": [
    "The remaining sections, `[REDUCTION]` and `[CALIB]` contain parameters that can either be provided directly when calling a function or imported from this config file to simplify function calls.\n",
    "\n",
    "To aid in flexibility, this notebook will allow all of the parameters in these sections to be provided directly when calling the functions. \n",
    "\n",
    "**Make sure all other keyword values in these two sections are empty and save your config file.**\n"
   ]
  },
  {
   "cell_type": "markdown",
   "id": "194ea50f",
   "metadata": {},
   "source": [
    "<a id=\"setup-pyenv\"></a>\n",
    "## Set Up Python Environment\n",
    "\n",
    "Briefly, we import the scripts that contain the main upper-level functions:"
   ]
  },
  {
   "cell_type": "code",
   "execution_count": null,
   "id": "bc4e769e",
   "metadata": {},
   "outputs": [],
   "source": [
    "from mirac5reduce.reduce import combine_frames\n",
    "from mirac5reduce.cal import bpmask, flatfield"
   ]
  },
  {
   "cell_type": "markdown",
   "id": "19f09af6",
   "metadata": {},
   "source": [
    "In addition, all of the upper-level functions in `mirac5reduce` have the option to write output to a log file instead of printing it to the terminal. Use the cell below to set your log file or update it if you decide to start a new one:"
   ]
  },
  {
   "cell_type": "code",
   "execution_count": null,
   "id": "ce166c8d",
   "metadata": {},
   "outputs": [],
   "source": [
    "# To write output to a log file, uncomment the line below and fill in the path and file name for the log file\n",
    "# logfile = ''\n",
    "# Or, to just write output directly to terminal, uncomment the following line instead\n",
    "logfile = None"
   ]
  },
  {
   "cell_type": "markdown",
   "id": "1febb71f",
   "metadata": {},
   "source": [
    "Finally, import a few side-packages that will help with visualization in this notebook:"
   ]
  },
  {
   "cell_type": "code",
   "execution_count": null,
   "id": "a021163f",
   "metadata": {},
   "outputs": [],
   "source": [
    "from astropy.io import fits\n",
    "from matplotlib import pyplot as P\n",
    "import numpy as np\n",
    "from mirac5reduce.utils.statfunc import medabsdev\n",
    "import configparser, os"
   ]
  },
  {
   "cell_type": "markdown",
   "id": "3ec3215d",
   "metadata": {},
   "source": [
    "<a id=\"calc-meandark\"></a>\n",
    "## Calculate Mean Dark File\n",
    "\n",
    "The function, `combine_frames.meanframe` calculates the mean frame for a range of file numbers and saves the output to a fits file with a populated header. While this function is general, it determines which raw file path to use from the config file from the data type specified when calling it."
   ]
  },
  {
   "cell_type": "code",
   "execution_count": null,
   "id": "017e2a37",
   "metadata": {},
   "outputs": [],
   "source": [
    "# Enter the full path where the raw dark files from the telescope are stored\n",
    "raw_dark_path    = \n",
    "\n",
    "# Enter the start and end (inclusive) file numbers of the range of raw dark files that you want to average \n",
    "#     as integers\n",
    "raw_dark_startno = \n",
    "raw_dark_endno   = \n",
    "\n",
    "# Enter the path where files created by the calibration scripts should be saved. The mean dark file saved \n",
    "#     here be named dark_[raw_dark_startno]_[raw_dark_endno].fits\n",
    "calib_outpath = \n",
    "\n",
    "# Then calculate the mean dark frame. Turns on debugging mode to echo the parameters provided.\n",
    "combine_frames.meanframe( config_file, 'dark', logfile = logfile, debug = True,\n",
    "                          datapath = raw_dark_path, startno = raw_dark_startno, endno = raw_dark_endno, \n",
    "                          outpath = calib_outpath )"
   ]
  },
  {
   "cell_type": "markdown",
   "id": "4363721f",
   "metadata": {},
   "source": [
    "Use this cell to preview the mean dark frame saved to this file:"
   ]
  },
  {
   "cell_type": "code",
   "execution_count": null,
   "id": "04d2f2f1",
   "metadata": {},
   "outputs": [],
   "source": [
    "## Generates file preview only; no editing needed ##\n",
    "with fits.open( os.path.join(calib_outpath, 'dark_{0}_{1}.fits'.format(raw_dark_startno,raw_dark_endno) ) ) as hdulist:\n",
    "    \n",
    "    print('Mean Value: {0:.2e} DN'.format( np.mean(hdulist[0].data) ))\n",
    "    print('Median Value: {0:.2e} DN'.format( np.median(hdulist[0].data) ))\n",
    "    print('Std Dev: {0:.2e} DN'.format( np.std(hdulist[0].data) ))\n",
    "    print('Med. Abs. Dev.: {0:.2e} DN'.format( medabsdev(hdulist[0].data) ))\n",
    "    \n",
    "    fig, axes = P.subplots(figsize = (15,7),  ncols=2)\n",
    "    axes[0].imshow( hdulist[0].data, origin='lower', interpolation='nearest' )\n",
    "    axes[0].set_title('Mean Dark', size=15)\n",
    "    axes[0].set_xlabel('X [pix]', size=15)\n",
    "    axes[0].set_ylabel('Y [pix]', size=15)\n",
    "    axes[1].set_yscale('log')\n",
    "    axes[1].hist(hdulist[0].data.ravel(), bins=500)\n",
    "    axes[1].set_title('Mean Dark Pixel Values', size=15)\n",
    "    axes[1].set_xlabel('Pixel Value [DN]', size=15)\n",
    "    axes[1].set_ylabel('Number of Pixels', size=15)"
   ]
  },
  {
   "cell_type": "markdown",
   "id": "7883e7be",
   "metadata": {},
   "source": [
    "<a id=\"calc-bpmask\"></a>\n",
    "## Create Bad Pixel Mask\n",
    "\n",
    "The bad pixel mask is created with a simple sigma-filter on the median absolute deviation of the mean dark file created above."
   ]
  },
  {
   "cell_type": "code",
   "execution_count": null,
   "id": "08a7c090",
   "metadata": {},
   "outputs": [],
   "source": [
    "## This section uses the following variables set above when making the mean dark file. If not running sequentially,\n",
    "##     uncomment these lines and set the relevant values here\n",
    "\n",
    "## Start and end file numbers for dark files\n",
    "# raw_dark_startno = \n",
    "# raw_dark_endno   = \n",
    "\n",
    "## Path where files created by calibration scripts are saved. Should already contain the mean dark file for the\n",
    "##     above dark file numbers. Will create bad pixel mask file named \n",
    "##     bpmask_[raw_dark_startno]_[raw_dark_endno].fits\n",
    "# calib_outpath = \n",
    "\n",
    "##"
   ]
  },
  {
   "cell_type": "code",
   "execution_count": null,
   "id": "f65d3eea",
   "metadata": {},
   "outputs": [],
   "source": [
    "# The threshold above and below which pixels are considered bad is \n",
    "#     this number x the M.A.D. on either side of the median\n",
    "bp_threshold = 7.0\n",
    "\n",
    "# Create the bad pixel mask file. Turns on debugging mode to echo the parameters provided.\n",
    "bpmask.make_bpmask( config_file, logfile = logfile, debug = True,\n",
    "                    startno = raw_dark_startno, endno = raw_dark_endno, bp_threshold = bp_threshold, \n",
    "                    outpath = calib_outpath )"
   ]
  },
  {
   "cell_type": "markdown",
   "id": "f99aaecf",
   "metadata": {},
   "source": [
    "While the histogram from the mean dark file above may provide more insight, the cell below can be used for a basic summary of the mask data."
   ]
  },
  {
   "cell_type": "code",
   "execution_count": null,
   "id": "23a9e643",
   "metadata": {},
   "outputs": [],
   "source": [
    "## Run cell for file preview only; no editing needed ##\n",
    "with fits.open( os.path.join(calib_outpath,'bpmask_{0}_{1}.fits'.format(raw_dark_startno,raw_dark_endno)) ) as hdulist:\n",
    "    \n",
    "    print('Flagged {0} / {1} pixels ({2:.1f}%)'.format( np.sum(hdulist[0].data), hdulist[0].data.size, \n",
    "                                                       100. * np.sum(hdulist[0].data) / hdulist[0].data.size ))\n",
    "    print('\\n{0} ext 0 header:\\n'.format('bpmask_{0}_{1}.fits'.format(raw_dark_startno,raw_dark_endno)))\n",
    "    for key in hdulist[0].header.keys():\n",
    "        print( '{0: <8} = {1: >24} / {2}'.format( *hdulist[0].header.cards[key] ) )\n",
    "    "
   ]
  },
  {
   "cell_type": "markdown",
   "id": "f0cdcd86",
   "metadata": {},
   "source": [
    "<a id=\"calc-flatfield\"></a>\n",
    "## Create Flatfield File\n",
    "\n",
    "To calculate a dark subtracted and scaled mean flatfield frame, we need to use the `flatfield.create_flatfield` function:"
   ]
  },
  {
   "cell_type": "code",
   "execution_count": null,
   "id": "349f36cd",
   "metadata": {},
   "outputs": [],
   "source": [
    "## This section uses the following variables set above when making the mean dark or bad pix mask file. If not \n",
    "##     running sequentially, uncomment these lines and set the relevant values here\n",
    "\n",
    "## Start and end file numbers for dark files. Used to locate existing mean dark/bad pixel files made from them.\n",
    "# raw_dark_startno = \n",
    "# raw_dark_endno   = \n",
    "\n",
    "## Path where files created by calibration scripts are saved. Should already contain the mean dark file and the\n",
    "##     bad pixel mask created from the above dark file number range. Will create a flatfield fits file in this path\n",
    "##     called flatfield_[raw_flat_startno]_[raw_flat_endno].fits\n",
    "# calib_outpath = \n",
    "\n",
    "##"
   ]
  },
  {
   "cell_type": "code",
   "execution_count": null,
   "id": "f3de6f60",
   "metadata": {},
   "outputs": [],
   "source": [
    "# Enter the full path where the raw flat files from the telescope are stored\n",
    "raw_flat_path    = \n",
    "\n",
    "# Enter the start and end file numbers (inclusive) of the range of raw flat files to use, as integers\n",
    "raw_flat_startno = \n",
    "raw_flat_endno   = \n",
    "\n",
    "# Create the flatfield file. Turns on debugging mode to echo the parameters provided.\n",
    "flatfield.create_flatfield( config_file, logfile = logfile, debug = True,\n",
    "                            raw_flat_path = raw_flat_path, startno = raw_flat_startno, endno = raw_flat_endno, \n",
    "                            outpath = calib_outpath, dark_startno = raw_dark_startno, dark_endno = raw_dark_endno )\n"
   ]
  },
  {
   "cell_type": "markdown",
   "id": "43c6e84e",
   "metadata": {},
   "source": [
    "Use this cell to preview the mean flatfield file created and its fits header:"
   ]
  },
  {
   "cell_type": "code",
   "execution_count": null,
   "id": "8aec66c0",
   "metadata": {},
   "outputs": [],
   "source": [
    "## Generates file preview only; no editing needed ##\n",
    "with fits.open( os.path.join(calib_outpath, 'flatfield_{0}_{1}.fits'.format(raw_flat_startno,raw_flat_endno) ) ) as hdulist:\n",
    "    print('\\n{0} ext 0 header:\\n'.format('flatfield_{0}_{1}.fits'.format(raw_flat_startno,raw_flat_endno)))\n",
    "    for key in hdulist[0].header.keys():\n",
    "        print( '    {0: <8} = {1: >24} / {2}'.format( *hdulist[0].header.cards[key] ) )\n",
    "    \n",
    "    print('\\nData Statistics:\\n')\n",
    "    print('  - Mean Value: {0:.2e} DN'.format( np.nanmean(hdulist[0].data) ))\n",
    "    print('  - Median Value: {0:.2e} DN'.format( np.nanmedian(hdulist[0].data) ))\n",
    "    print('  - Std Dev: {0:.2e} DN'.format( np.nanstd(hdulist[0].data) ))\n",
    "    print('  - Med. Abs. Dev.: {0:.2e} DN'.format( medabsdev(hdulist[0].data) ))\n",
    "    \n",
    "    fig, axes = P.subplots(figsize = (15,7),  ncols=2)\n",
    "    axes[0].imshow( hdulist[0].data, origin='lower', interpolation='nearest' )\n",
    "    axes[0].set_title('Flatfield', size=15)\n",
    "    axes[0].set_xlabel('X [pix]', size=15)\n",
    "    axes[0].set_ylabel('Y [pix]', size=15)\n",
    "    axes[1].set_yscale('log')\n",
    "    axes[1].hist(hdulist[0].data.ravel(), bins=500)\n",
    "    axes[1].set_title('Flatfield Pixel Values', size=15)\n",
    "    axes[1].set_xlabel('(Normalized) Pixel Value [unitless]', size=15)\n",
    "    axes[1].set_ylabel('Number of Pixels', size=15)"
   ]
  },
  {
   "cell_type": "markdown",
   "id": "96f97a27",
   "metadata": {},
   "source": [
    "<a id=\"calc-meanflat\"></a>\n",
    "## Create Mean Flat File\n",
    "\n",
    "Just as with the mean dark file, the `combine_frames.meanframe` function can be used to create a mean flat frame instead of a mean dark frame. Unlike `flatfield.create_flatfield` above, this is a simple mean of the frames provided, with no dark subtraction or scaling.\n",
    "\n",
    "**Note**: The mean flat file is not currently used in the staring-mode reduction below. However, creating a mean flat file is an optional capability of this package, if desired."
   ]
  },
  {
   "cell_type": "code",
   "execution_count": null,
   "id": "9b289cc3",
   "metadata": {},
   "outputs": [],
   "source": [
    "## This section uses the following variables set by the calibration sections above. If not \n",
    "##     running sequentially, uncomment these lines and set the relevant values here\n",
    "\n",
    "## The full path where the raw flat files from the telescope are stored\n",
    "# raw_flat_path    = \n",
    "\n",
    "## Path where files created by calibration scripts are saved. Will create a mean flat fits file in this path\n",
    "##     called flat_[raw_flat_startno]_[raw_flat_endno].fits\n",
    "# calib_outpath = \n",
    "\n",
    "##"
   ]
  },
  {
   "cell_type": "code",
   "execution_count": null,
   "id": "0595e2a2",
   "metadata": {},
   "outputs": [],
   "source": [
    "# Enter the start and end file numbers (inclusive) of the range of raw flat files that you want to average\n",
    "# raw_flat_startno = \n",
    "# raw_flat_endno   = \n",
    "\n",
    "# Then calculate the mean flat frame. Turns on debugging mode to echo the parameters provided.\n",
    "combine_frames.meanframe( config_file, 'flat', logfile = logfile, debug = True,\n",
    "                          datapath = raw_flat_path, startno = raw_flat_startno, endno = raw_flat_endno, \n",
    "                          outpath = calib_outpath )"
   ]
  },
  {
   "cell_type": "markdown",
   "id": "186a7d42",
   "metadata": {},
   "source": [
    "Again, the cell below just offers a preview of the contents of the created file:"
   ]
  },
  {
   "cell_type": "code",
   "execution_count": null,
   "id": "4db95254",
   "metadata": {},
   "outputs": [],
   "source": [
    "## Run for file preview only; no editing needed ##\n",
    "with fits.open( os.path.join(calib_outpath,'flat_{0}_{1}.fits'.format(raw_flat_startno,raw_flat_endno)) ) as hdulist:\n",
    "    \n",
    "    print('Mean Value: {0:.2e} DN'.format( np.mean(hdulist[0].data) ))\n",
    "    print('Median Value: {0:.2e} DN'.format( np.median(hdulist[0].data) ))\n",
    "    print('Std Dev: {0:.2e} DN'.format( np.std(hdulist[0].data) ))\n",
    "    print('Med. Abs. Dev.: {0:.2e} DN'.format( medabsdev(hdulist[0].data) ))\n",
    "    \n",
    "    fig, axes = P.subplots(figsize = (15,7),  ncols=2)\n",
    "    axes[0].imshow( hdulist[0].data, origin='lower', interpolation='nearest' )\n",
    "    axes[0].set_title('Mean Flat', size=15)\n",
    "    axes[0].set_xlabel('X [pix]', size=15)\n",
    "    axes[0].set_ylabel('Y [pix]', size=15)\n",
    "    axes[1].set_yscale('log')\n",
    "    axes[1].hist(hdulist[0].data.ravel(), bins=500)\n",
    "    axes[1].set_title('Mean Flat Pixel Values', size=15)\n",
    "    axes[1].set_xlabel('Pixel Value [DN]', size=15)\n",
    "    axes[1].set_ylabel('Number of Pixels', size=15)"
   ]
  },
  {
   "cell_type": "markdown",
   "id": "562f9d6b",
   "metadata": {},
   "source": [
    "<a id=\"reduce-chopnod\"></a>\n",
    "## Reduce Chop/Nod Observations\n",
    "\n",
    "Reduction of the chop nod data is currently limited to calculating the mean difference frame of all of the chop/nodded frames with `combine_frames.chopnodframe`.\n",
    "\n",
    "It can be ran with the following:"
   ]
  },
  {
   "cell_type": "code",
   "execution_count": null,
   "id": "b2a85478",
   "metadata": {},
   "outputs": [],
   "source": [
    "# The full path where the raw observation files are stored\n",
    "raw_data_path = \n",
    "\n",
    "# Enter the start and end file numbers (inclusive) of the range of raw chop/nod files that you want to average\n",
    "raw_data_startno = \n",
    "raw_data_endno   = \n",
    "\n",
    "# Set the chop and nod frequencies, in Hz\n",
    "chopfreq = \n",
    "nodfreq  = \n",
    "\n",
    "# Enter the path where you want to save the reduced output files. Will create a file in this directory named\n",
    "#     chopnod_[raw_data_startno]_[raw_data_endno].fits\n",
    "reduce_outpath = \n",
    "\n",
    "# Then calculate and save the mean difference frame. Turns on debugging mode to echo the parameters provided.\n",
    "combine_frames.chopnodframe( config_file, logfile = logfile, debug = True,\n",
    "                             datapath = raw_data_path, startno = raw_data_startno, endno = raw_data_endno,\n",
    "                             chopfreq = chopfreq, nodfreq = nodfreq, outpath = reduce_outpath )"
   ]
  },
  {
   "cell_type": "markdown",
   "id": "4c57ac02",
   "metadata": {},
   "source": [
    "The cell below provides a preview, with optional masking:"
   ]
  },
  {
   "cell_type": "code",
   "execution_count": null,
   "id": "b006944b",
   "metadata": {},
   "outputs": [],
   "source": [
    "# Set bool specifying whether you want to apply bad pixel mask created above to the plotted figures\n",
    "plot_with_mask = False\n",
    "\n",
    "# If you do set plot_with_mask = True, provide the path to the bad pixel mask that you wish to use, as well as\n",
    "#     the file numbers used to create it. To use values set in earlier cells, just comment the next three lines \n",
    "#     out.\n",
    "# calib_outpath    = \n",
    "# raw_dark_startno = \n",
    "# raw_dark_endno   =\n",
    "\n",
    "\n",
    "## Run for image preview only; no editing needed ##\n",
    "cn_data = fits.getdata( os.path.join(reduce_outpath,'chopnod_{0}_{1}.fits'.format(raw_data_startno,raw_data_endno)), 0 )\n",
    "if plot_with_mask:\n",
    "    mask = fits.getdata( os.path.join(calib_outpath,'bpmask_{0}_{1}.fits'.format(raw_dark_startno,raw_dark_endno))  , 0 )\n",
    "    cn_data = np.ma.masked_array( cn_data, mask=mask )\n",
    "    cn_data = cn_data.filled( np.nan )\n",
    "fig, ax = P.subplots(figsize = (11,9))\n",
    "im = ax.imshow( cn_data, origin='lower', interpolation='nearest' )\n",
    "fig.colorbar(im, ax=ax)\n",
    "ax.set_title('Mean Chop-Nod Subtracted Image', size=15)\n",
    "ax.set_xlabel('X [pix]', size=15)\n",
    "ax.set_ylabel('Y [pix]', size=15)\n",
    "\n",
    "\n",
    "# Use this section to specify the x/y axis limits on the figure\n",
    "# xlim = [ 462, 562 ]\n",
    "# ylim = [ 462, 562 ]\n",
    "# ax.set_xlim( xlim[0], xlim[1] )\n",
    "# ax.set_ylim( ylim[0], ylim[1] )"
   ]
  },
  {
   "cell_type": "markdown",
   "id": "0856c8e0",
   "metadata": {},
   "source": [
    "If you know the chop/nod throw, in pixels, you can recombine the image here:"
   ]
  },
  {
   "cell_type": "code",
   "execution_count": null,
   "id": "231c2963",
   "metadata": {},
   "outputs": [],
   "source": [
    "# Assumes parallel chop/nod throws, where chop-1-nod-A and chop-2-nod-B are at the same location. \n",
    "# Specify the throw of one of the two negative chop/nod positions with respect 1A/2B position as [dx, dy], in pix, \n",
    "#    where a positive dx value indicates that the negative source imprint is to the right of the positive source\n",
    "#    The other negative imprint will be assumed to be the opposite direction from the positive central source\n",
    "offset = [ , ]\n",
    "\n",
    "# combines frames, but does *not* trim around the positive source\n",
    "frame_dy = cn_data.shape[0] - abs( 2*offset[1] )\n",
    "frame_dx = cn_data.shape[1] - abs( 2*offset[0] )\n",
    "x0 = abs(offset[0]); y0 = abs(offset[1])\n",
    "recomb_frame =   cn_data[ y0 : frame_dy+y0, x0 : frame_dx+x0 ] - \\\n",
    "                 cn_data[ y0+offset[1] : frame_dy+y0+offset[1], x0+offset[0] : frame_dx+x0+offset[0] ] - \\\n",
    "                 cn_data[ y0-offset[1] : frame_dy+y0-offset[1], x0-offset[0] : frame_dx+x0-offset[0] ]\n",
    "print('Recombined image array is (y,x) = {0}'.format(recomb_frame.shape))\n",
    "\n",
    "# Plots recombined frame\n",
    "fig, ax = P.subplots(figsize = (9,7))\n",
    "im = ax.imshow( recomb_frame, origin='lower', interpolation='nearest' )\n",
    "fig.colorbar(im, ax=ax)\n",
    "ax.set_title('Re-combined Chop-Nodded Image', size=15)\n",
    "ax.set_xlabel('X [pix]', size=15)\n",
    "ax.set_ylabel('Y [pix]', size=15)\n",
    "\n",
    "# Use this section to zoom into where your source is in the image\n",
    "# xlim = [ 412, 512 ]\n",
    "# ylim = [ 457, 557 ]\n",
    "# ax.set_xlim( xlim[0], xlim[1] )\n",
    "# ax.set_ylim( ylim[0], ylim[1] )"
   ]
  },
  {
   "cell_type": "markdown",
   "id": "43e2d0a9",
   "metadata": {},
   "source": [
    "<a id=\"reduce-staring\"></a>\n",
    "## Reduce Staring Mode Observations\n",
    "\n",
    "While not yet implemented in `mirac5reduce` in a fully automated way, staring mode observations can be performed by manually applying the calibration files created above.\n",
    "\n",
    "First, **create a mean dark file, a bad pixel file, and a flatfield file** using the appropriate sections above. \n",
    "\n",
    "Note: It is assumed that all file types have the same integration time!"
   ]
  },
  {
   "cell_type": "markdown",
   "id": "05c62c7a",
   "metadata": {},
   "source": [
    "This reduction consists of the following steps:\n",
    "\n",
    "1. Calculate the mean frame of your raw staring mode data. Saved to `reduce_outpath` as 'staring_raw_*.fits'.\n",
    "\n",
    "\n",
    "2. Subtract the mean dark frame from the mean observation frame.\n",
    "\n",
    "\n",
    "3. (Optional) Divide the dark-subtracted observation by the flatfield frame.\n",
    "\n",
    "\n",
    "4. (Optional) Apply the bad pixel mask.\n",
    "\n",
    "\n",
    "5. Save result to `reduce_outpath` as 'staring_reduced_*.fits'.\n",
    "\n",
    "Use the following cell to specify which of the optional steps you'd like to include:"
   ]
  },
  {
   "cell_type": "code",
   "execution_count": null,
   "id": "da955bfe",
   "metadata": {},
   "outputs": [],
   "source": [
    "# Set whether or not to perform step 3 above (dividing by flatfield) by setting do_flatfield to True/False\n",
    "do_flatfield = True\n",
    "\n",
    "# Set whether or not to perform step 4 above (applying the bad pixel mask) by setting do_bpmask to True/False\n",
    "do_bpmask    = True"
   ]
  },
  {
   "cell_type": "markdown",
   "id": "7b2a8b4c",
   "metadata": {},
   "source": [
    "Then, use the following cell to set the parameters for your data:"
   ]
  },
  {
   "cell_type": "code",
   "execution_count": null,
   "id": "74e6a0f7",
   "metadata": {},
   "outputs": [],
   "source": [
    "# Enter the path where the raw (observation) frame files are stored\n",
    "raw_data_path = \n",
    "\n",
    "# Enter the start and end file numbers (inclusive) of the range of raw staring mode files\n",
    "raw_data_startno = \n",
    "raw_data_endno   = \n",
    "\n",
    "# Path indicating where the output files created by these reduction scripts should be saved\n",
    "reduce_outpath = \n",
    "\n",
    "# Enter the path where the (previously created) calibration files are stored. It must at least contain a mean\n",
    "#     dark file, and can also contain the corresponding bad pixel mask file and an associated flatfield file.\n",
    "#     To use value set in earlier cells, just comment out the following line:\n",
    "calib_outpath    =  \n",
    "\n",
    "# Enter the start and end file numbers of the dark files used to create the mean dark file and bad pixel mask in\n",
    "#     the calib_outpath. To use value set in earlier cells, comment out the following two lines:\n",
    "raw_dark_startno = \n",
    "raw_dark_endno   = \n",
    "\n",
    "# Enter the start and end file numbers of the flat files used to create the flatfield file in\n",
    "#     the calib_outpath. To use value set in earlier cells, comment out the following two lines:\n",
    "raw_flat_startno = \n",
    "raw_flat_endno   = \n"
   ]
  },
  {
   "cell_type": "code",
   "execution_count": null,
   "id": "a743f4bf",
   "metadata": {},
   "outputs": [],
   "source": [
    "## Run this cell to perform the staring mode reduction ##\n",
    "######## Should not require additional editing ##########\n",
    "\n",
    "# Calculates mean frame of data\n",
    "mean_rawdata_filename = 'staring_raw_{0}_{1}.fits'.format( raw_data_startno, raw_data_endno )\n",
    "combine_frames.meanframe( config_file, 'obs', logfile = logfile, debug = True,\n",
    "                          startno = raw_data_startno, endno = raw_data_endno, datapath = raw_data_path )\n",
    "\n",
    "\n",
    "\n",
    "## Loads in raw mean file produced and manually applies dark subtraction and flatfield ##\n",
    "print('\\nDark subtraction:')\n",
    "print('  - Mean staring mode frame: {0}'.format( os.path.join(reduce_outpath,mean_rawdata_filename) ))\n",
    "raw_staring_frame = fits.getdata( os.path.join(reduce_outpath,mean_rawdata_filename), 0 )\n",
    "print('  - Mean dark frame        : {0}'.format( os.path.join(calib_outpath,mean_dark_filename) ))\n",
    "mean_dark_filename = 'dark_{0}_{1}.fits'.format(raw_dark_startno,raw_dark_endno)\n",
    "mean_dark_frame   = fits.getdata( os.path.join( calib_outpath,mean_dark_filename), 0 )\n",
    "red_staring_frame = raw_staring_frame - mean_dark_frame\n",
    "\n",
    "\n",
    "## Divides by the flatfield, if requested ##\n",
    "print('Flatfield division: {0}'.format(do_flatfield))\n",
    "if do_flatfield:\n",
    "    flatfield_filename = 'flatfield_{0}_{1}.fits'.format(raw_flat_startno,raw_flat_endno)\n",
    "    print('  - Mean flatfield frame   : {0}'.format( os.path.join(calib_outpath,flatfield_filename) ))\n",
    "    flatfield_frame   = fits.getdata( os.path.join( calib_outpath,flatfield_filename), 0 )\n",
    "    red_staring_frame /= flatfield_frame\n",
    "else:\n",
    "    flatfield_filename = None\n",
    "\n",
    "\n",
    "## Applies the bad pixel mask, if requested ##\n",
    "print('BP mask application: {0}'.format(do_bpmask))\n",
    "if do_bpmask:\n",
    "    bp_filename       = 'bpmask_{0}_{1}.fits'.format(raw_dark_startno,raw_dark_endno)\n",
    "    print('  - Bad Pix Mask File     : {0}'.format( os.path.join(calib_outpath,bp_filename) ))\n",
    "    bpmask_frame      = fits.getdata( os.path.join( calib_outpath,bp_filename), 0 )\n",
    "    red_staring_frame = np.ma.masked_array( red_staring_frame, mask = bpmask_frame )\n",
    "    red_staring_frame = red_staring_frame.filled( np.nan )\n",
    "else:\n",
    "    bp_filename       = None\n",
    "\n",
    "\n",
    "## Saves the results to a file ##\n",
    "staring_data_filename = 'staring_reduced_{0}_{1}.fits'.format( raw_data_startno, raw_data_endno )\n",
    "print('Saving reduced frame: {0}'.format( os.path.join(reduce_outpath,staring_data_filename) ))\n",
    "hdu = fits.PrimaryHDU( red_staring_frame )\n",
    "hdu.header['FILETYPE'] =   'Staring Reduct'\n",
    "hdu.header['NFRAMES' ] = ( raw_data_endno-raw_data_startno , 'Number raw flat frames used'         )\n",
    "hdu.header['STARTNO' ] = ( raw_data_startno                , 'First file number of obs data range' )\n",
    "hdu.header['ENDNO'   ] = ( raw_data_endno                  , 'Last file number of obs data range'  )\n",
    "hdu.header['DARKFILE'] = ( mean_dark_filename              , 'Dark file used'                      )\n",
    "hdu.header['MASKFILE'] = ( bp_filename                     , 'Bad Pixel Mask file used'            )\n",
    "hdu.header['FLFDFILE'] = ( flatfield_filename              , 'Flatfield file used'                 )\n",
    "hdu.writeto( os.path.join( reduce_outpath, staring_data_filename ) )"
   ]
  },
  {
   "cell_type": "code",
   "execution_count": null,
   "id": "0ce8c017",
   "metadata": {},
   "outputs": [],
   "source": [
    "## Use this cell to visualize the reduced data created ##\n",
    "\n",
    "# Plots reduced data \n",
    "fig, ax = P.subplots(figsize = (9,7))\n",
    "im = ax.imshow( red_staring_frame, origin='lower', interpolation='nearest' )\n",
    "fig.colorbar(im, ax=ax)\n",
    "ax.set_title('Reduced Staring-Mode Image', size=15)\n",
    "ax.set_xlabel('X [pix]', size=15)\n",
    "ax.set_ylabel('Y [pix]', size=15)\n",
    "\n",
    "# Use this section to zoom into where your source is in the image\n",
    "# xlim = [ 450, 580 ]\n",
    "# ylim = [ 450, 580 ]\n",
    "# ax.set_xlim( xlim[0], xlim[1] )\n",
    "# ax.set_ylim( ylim[0], ylim[1] )"
   ]
  }
 ],
 "metadata": {
  "kernelspec": {
   "display_name": "Python 3 (ipykernel)",
   "language": "python",
   "name": "python3"
  },
  "language_info": {
   "codemirror_mode": {
    "name": "ipython",
    "version": 3
   },
   "file_extension": ".py",
   "mimetype": "text/x-python",
   "name": "python",
   "nbconvert_exporter": "python",
   "pygments_lexer": "ipython3",
   "version": "3.9.12"
  }
 },
 "nbformat": 4,
 "nbformat_minor": 5
}
