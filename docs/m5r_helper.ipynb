{
 "cells": [
  {
   "cell_type": "markdown",
   "id": "6d5800b9",
   "metadata": {},
   "source": [
    "# MIRAC-5 Reduce Helper\n",
    "\n",
    "This jupyter notebook is intended to both provide instructions on how to use the mirac5reduce package and serve as a simple user interface for performing their own simple reductions.\n",
    "\n",
    "To use this notebook, always start with the first two sections:\n",
    "\n",
    "1. [Set Up the Config File](#setup-config)\n",
    "\n",
    "2. [Set Up Python Environment](#setup-pyenv)\n",
    "\n",
    "The remaining sections can be accessed as needed to perform various tasks:\n",
    "\n",
    "3. [Calculate Mean Dark File](#calc-meandark)\n",
    "\n",
    "4. [Create Bad Pixel Mask](#calc-bpmask)\n",
    "\n",
    "5. [Create Flatfield File](#calc-flatfield)\n",
    "\n",
    "6. [Create Mean Flat File](#calc-meanflat)\n",
    "\n",
    "7. [Reduce Chop/Nod Observations](#reduce-chopnod)\n",
    "\n",
    "8. [Reduce Staring Mode Observation](#reduce-staring)\n"
   ]
  },
  {
   "cell_type": "markdown",
   "id": "e1215390",
   "metadata": {},
   "source": [
    "<a id=\"setup-config\"></a>\n",
    "## Set Up the Config File\n",
    "\n",
    "First, you will want to create your own copy of the config file and edit it. \n",
    "\n",
    "The sample config file is provided as part of the mirac5reduce package under `docs/runparams.init`. \n",
    "\n",
    "Create a copy of that file, preferably somewhere near where your reduction files will be, though that isn't required. \n",
    "\n",
    "Enter the path and file name of this copy in the following cell to save it as the variable, `config_file`:"
   ]
  },
  {
   "cell_type": "code",
   "execution_count": null,
   "id": "0f0c8f6d",
   "metadata": {},
   "outputs": [],
   "source": [
    "config_file = ''"
   ]
  },
  {
   "cell_type": "markdown",
   "id": "d7caa08e",
   "metadata": {},
   "source": [
    "Open your config file in your text editor of choice. You will see that it has 4 sections: `[REDUCTION]`, `[CALIB]`, `[COMPUTING]`, and `[DATA_ARCH]`.\n",
    "\n",
    "The last two sections, `[COMPUTING]` and `[DATA_ARCH]` contain parameters that are specific to the computer that you are running the reduction on and the architecture of the data produced by the MIRAC-5 data aqcuisition software, respectively. \n",
    "\n",
    "**Review and set the parameters in the `[COMPUTING]` and `[DATA_ARCH]` sections of your config file.** They should not change for the rest of the reduction. Descriptions are provided in the template config file. "
   ]
  },
  {
   "cell_type": "markdown",
   "id": "3cfdf7c4",
   "metadata": {},
   "source": [
    "The remaining sections, `[REDUCTION]` and `[CALIB]` contain parameters that can either be provided directly when calling a function or imported from this config file to simplify function calls.\n",
    "\n",
    "To aid in flexibility, this notebook will allow most of the parameters to be provided directly on function calls. But we do assume that (1) all raw data is stored in the same path and (2) all raw calibration files are stored in the same path. (These paths may be the same or different.)\n",
    "\n",
    "**Review and set the following parameters in your config file:**\n",
    "* `raw_data_path` in the `[REDUCTION]` section\n",
    "* `raw_cals_path` in the `[CALIB]` section\n",
    "\n",
    "**Make sure all other keyword values in these two sections are empty and save your config file.**\n"
   ]
  },
  {
   "cell_type": "markdown",
   "id": "194ea50f",
   "metadata": {},
   "source": [
    "<a id=\"setup-pyenv\"></a>\n",
    "## Set Up Python Environment\n",
    "\n",
    "Briefly, we import the scripts that contain the main upper-level functions:"
   ]
  },
  {
   "cell_type": "code",
   "execution_count": null,
   "id": "bc4e769e",
   "metadata": {},
   "outputs": [],
   "source": [
    "from mirac5reduce.reduce import combine_frames\n",
    "from mirac5reduce.cal import bpmask, flatfield"
   ]
  },
  {
   "cell_type": "markdown",
   "id": "19f09af6",
   "metadata": {},
   "source": [
    "In addition, all of the upper-level functions in `mirac5reduce` have the option to write output to a log file instead of printing it to the terminal. Use the cell below to set your log file or update it if you decide to start a new one:"
   ]
  },
  {
   "cell_type": "code",
   "execution_count": null,
   "id": "ce166c8d",
   "metadata": {},
   "outputs": [],
   "source": [
    "# To write output to a log file, uncomment the line below and fill in the path and file name for the log file\n",
    "# logfile = ''\n",
    "# Or, to just write output directly to terminal, uncomment the following line instead\n",
    "# logfile = None"
   ]
  },
  {
   "cell_type": "markdown",
   "id": "1febb71f",
   "metadata": {},
   "source": [
    "Finally, import a few side-packages that will help with visualization in this notebook:"
   ]
  },
  {
   "cell_type": "code",
   "execution_count": null,
   "id": "a021163f",
   "metadata": {},
   "outputs": [],
   "source": [
    "from astropy.io import fits\n",
    "from matplotlib import pyplot as P\n",
    "import numpy as np\n",
    "from mirac5reduce.utils.statfunc import medabsdev\n",
    "import configparser, os"
   ]
  },
  {
   "cell_type": "markdown",
   "id": "3ec3215d",
   "metadata": {},
   "source": [
    "<a id=\"calc-meandark\"></a>\n",
    "## Calculate Mean Dark File\n",
    "\n",
    "The function, `combine_frames.meanframe` calculates the mean frame for a range of file numbers and saves the output to a fits file with a populated header. While this function is general, it determines which raw file path to use from the config file from the data type specified when calling it."
   ]
  },
  {
   "cell_type": "code",
   "execution_count": null,
   "id": "017e2a37",
   "metadata": {},
   "outputs": [],
   "source": [
    "# Enter the start and end file numbers (inclusive) of the range of raw dark files that you want to average\n",
    "raw_dark_startno = \n",
    "raw_dark_endno   = \n",
    "\n",
    "# Enter the (FITS) file name of the mean dark file that you want to create. \n",
    "#     It will be saved in your calib_outpath.\n",
    "mean_dark_filename = 'dark_{0}_{1}.fits'.format( raw_dark_startno, raw_dark_endno )\n",
    "\n",
    "# Then calculate the mean dark frame. Turns on debugging mode to echo the parameters provided.\n",
    "combine_frames.meanframe( config_file, 'dark', logfile = logfile, debug = True,\n",
    "                          startno = raw_dark_startno, endno = raw_dark_endno, outfile = mean_dark_filename )"
   ]
  },
  {
   "cell_type": "markdown",
   "id": "4363721f",
   "metadata": {},
   "source": [
    "Use this cell to preview this file and its header:"
   ]
  },
  {
   "cell_type": "code",
   "execution_count": null,
   "id": "04d2f2f1",
   "metadata": {},
   "outputs": [],
   "source": [
    "## Generates file preview only; no editing needed ##\n",
    "conf = configparser.ConfigParser()\n",
    "_ = conf.read(config_file)\n",
    "calib_outpath = conf['CALIB']['calib_outpath']\n",
    "with fits.open( os.path.join(calib_outpath,mean_dark_filename) ) as hdulist:\n",
    "    \n",
    "    print('Mean Value: {0:.2e} DN'.format( np.mean(hdulist[0].data) ))\n",
    "    print('Median Value: {0:.2e} DN'.format( np.median(hdulist[0].data) ))\n",
    "    print('Std Dev: {0:.2e} DN'.format( np.std(hdulist[0].data) ))\n",
    "    print('Med. Abs. Dev.: {0:.2e} DN'.format( medabsdev(hdulist[0].data) ))\n",
    "    \n",
    "    fig, axes = P.subplots(figsize = (11,5),  ncols=2)\n",
    "    axes[0].imshow( hdulist[0].data )\n",
    "    axes[1].set_yscale('log')\n",
    "    axes[1].hist(hdulist[0].data.ravel(), bins=500)"
   ]
  },
  {
   "cell_type": "markdown",
   "id": "7883e7be",
   "metadata": {},
   "source": [
    "<a id=\"calc-bpmask\"></a>\n",
    "## Create Bad Pixel Mask\n",
    "\n",
    "The bad pixel mask is created with a simple sigma-filter on the median absolute deviation of the mean dark file created above."
   ]
  },
  {
   "cell_type": "code",
   "execution_count": null,
   "id": "f65d3eea",
   "metadata": {},
   "outputs": [],
   "source": [
    "# Uses the same mean_dark_filename as above\n",
    "\n",
    "# The threshold above and below which pixels are considered bad is \n",
    "#     this number x the M.A.D. on either side of the median\n",
    "bp_threshold = 7.0\n",
    "\n",
    "# The path and (FITS) file name to which the bad pixel mask will be saved\n",
    "bp_filename = 'bpmask_{0}_{1}.fits'.format( raw_dark_startno, raw_dark_endno )\n",
    "\n",
    "# Create the bad pixel mask file. Turns on debugging mode to echo the parameters provided.\n",
    "bpmask.make_bpmask( config_file, logfile = logfile, debug = True,\n",
    "                    dark_file = mean_dark_filename, bp_threshold = bp_threshold, outfile = bp_filename )"
   ]
  },
  {
   "cell_type": "markdown",
   "id": "f99aaecf",
   "metadata": {},
   "source": [
    "While the histogram from the mean dark file above may provide more insight, the cell below can be used for a basic summary of the mask data."
   ]
  },
  {
   "cell_type": "code",
   "execution_count": null,
   "id": "23a9e643",
   "metadata": {},
   "outputs": [],
   "source": [
    "## Run cell for file preview only; no editing needed ##\n",
    "conf = configparser.ConfigParser()\n",
    "_ = conf.read(config_file)\n",
    "calib_outpath = conf['CALIB']['calib_outpath']\n",
    "with fits.open( os.path.join(calib_outpath,bp_filename) ) as hdulist:\n",
    "    \n",
    "    print('Flagged {0} / {1} pixels ({2:.1f}%)'.format( np.sum(hdulist[0].data), hdulist[0].data.size, \n",
    "                                                       100. * np.sum(hdulist[0].data) / hdulist[0].data.size ))\n",
    "    print('\\n{0} ext 0 header:\\n'.format(bp_filename))\n",
    "    for key in hdulist[0].header.keys():\n",
    "        print( '{0: <8} = {1: >24} / {2}'.format( *hdulist[0].header.cards[key] ) )\n",
    "    "
   ]
  },
  {
   "cell_type": "markdown",
   "id": "f0cdcd86",
   "metadata": {},
   "source": [
    "<a id=\"calc-flatfield\"></a>\n",
    "## Create Flatfield File\n",
    "\n",
    "To calculate a dark subtracted and scaled mean flatfield frame, we need to use the `flatfield.create_flatfield` function:"
   ]
  },
  {
   "cell_type": "code",
   "execution_count": null,
   "id": "f3de6f60",
   "metadata": {},
   "outputs": [],
   "source": [
    "# Enter the start and end file numbers (inclusive) of the range of raw flat files to use\n",
    "raw_flat_startno = \n",
    "raw_flat_endno   = \n",
    "\n",
    "# Enter the (FITS) file name of the flatfield file that you want to create. Saved in your calib_outpath.\n",
    "flatfield_filename = 'flatfield_{0}_{1}.fits'.format( raw_flat_startno, raw_flat_endno )\n",
    "\n",
    "# Enter the name of the *existing* mean dark file to subtract off of the flats\n",
    "mean_dark_filename = 'dark_{0}_{1}.fits'.format( raw_dark_startno, raw_dark_endno )\n",
    "\n",
    "# If you wish to mask bad pixels from the flats before they are normalized, enter the name of the existing bad \n",
    "#     pixel mask to use here. Otherwise, set the following to None:\n",
    "bp_filename = 'bpmask_{0}_{1}.fits'.format( raw_dark_startno, raw_dark_endno )\n",
    "\n",
    "# Create the flatfield file. Turns on debugging mode to echo the parameters provided.\n",
    "flatfield.create_flatfield( config_file, logfile = logfile, debug = True,\n",
    "                            startno = raw_flat_startno, endno = raw_flat_endno, outfile = flatfield_filename,\n",
    "                            dark_file = mean_dark_filename, bpmask_file = bp_filename )\n"
   ]
  },
  {
   "cell_type": "markdown",
   "id": "96f97a27",
   "metadata": {},
   "source": [
    "<a id=\"calc-meanflat\"></a>\n",
    "## Create Mean Flat File\n",
    "\n",
    "Just as with the mean dark file, the `combine_frames.meanframe` function can be used to create a mean flat frame instead of a mean dark frame. Unlike `flatfield.create_flatfield` above, this is a simple mean of the frames provided, with no dark subtraction or scaling."
   ]
  },
  {
   "cell_type": "code",
   "execution_count": null,
   "id": "0595e2a2",
   "metadata": {},
   "outputs": [],
   "source": [
    "# Enter the start and end file numbers (inclusive) of the range of raw flat files that you want to average\n",
    "raw_flat_startno = \n",
    "raw_flat_endno   = \n",
    "\n",
    "# Enter the path and (FITS) file name of the mean flat fits file that you want to create\n",
    "mean_flat_filename = 'flat_{0}_{1}.fits'.format( raw_flat_startno, raw_flat_endno )\n",
    "\n",
    "# Then calculate the mean flat frame. Turns on debugging mode to echo the parameters provided.\n",
    "combine_frames.meanframe( config_file, 'flat', logfile = logfile, debug = True,\n",
    "                          startno = raw_flat_startno, endno = raw_flat_endno, outfile = mean_flat_filename )"
   ]
  },
  {
   "cell_type": "markdown",
   "id": "186a7d42",
   "metadata": {},
   "source": [
    "Again, the cell below just offers a preview of the contents of the created file:"
   ]
  },
  {
   "cell_type": "code",
   "execution_count": null,
   "id": "4db95254",
   "metadata": {},
   "outputs": [],
   "source": [
    "## Run for file preview only; no editing needed ##\n",
    "conf = configparser.ConfigParser()\n",
    "_ = conf.read(config_file)\n",
    "calib_outpath = conf['CALIB']['calib_outpath']\n",
    "with fits.open( os.path.join(calib_outpath,mean_flat_filename) ) as hdulist:\n",
    "    \n",
    "    print('Mean Value: {0:.2e} DN'.format( np.mean(hdulist[0].data) ))\n",
    "    print('Median Value: {0:.2e} DN'.format( np.median(hdulist[0].data) ))\n",
    "    print('Std Dev: {0:.2e} DN'.format( np.std(hdulist[0].data) ))\n",
    "    print('Med. Abs. Dev.: {0:.2e} DN'.format( medabsdev(hdulist[0].data) ))\n",
    "    \n",
    "    fig, axes = P.subplots(figsize = (11,4),  ncols=2)\n",
    "    axes[0].imshow( hdulist[0].data )\n",
    "    axes[1].set_yscale('log')\n",
    "    axes[1].hist(hdulist[0].data.ravel(), bins=500)"
   ]
  },
  {
   "cell_type": "markdown",
   "id": "562f9d6b",
   "metadata": {},
   "source": [
    "<a id=\"reduce-chopnod\"></a>\n",
    "## Reduce Chop/Nod Observations\n",
    "\n",
    "Reduction of the chop nod data is currently limited to calculating the mean difference frame of all of the chop/nodded frames with `combine_frames.chopnodframe`.\n",
    "\n",
    "It can be ran with the following:"
   ]
  },
  {
   "cell_type": "code",
   "execution_count": null,
   "id": "b2a85478",
   "metadata": {},
   "outputs": [],
   "source": [
    "# Enter the start and end file numbers (inclusive) of the range of raw chop/nod files that you want to average\n",
    "raw_data_startno = \n",
    "raw_data_endno   = \n",
    "\n",
    "# Set the chop and nod frequencies, in Hz\n",
    "chopfreq = \n",
    "nodfreq  = \n",
    "\n",
    "# Enter the path and (FITS) file name of the resulting mean chop/nod diff fits file that you want to create\n",
    "chopnod_filename = 'chopnod_{0}_{1}.fits'.format( raw_data_startno, raw_data_endno )\n",
    "\n",
    "# Then calculate and save the mean difference frame. Turns on debugging mode to echo the parameters provided.\n",
    "combine_frames.chopnodframe( config_file, logfile = logfile, debug = True,\n",
    "                             startno = raw_data_startno, endno = raw_data_endno,\n",
    "                             chopfreq = chopfreq, nodfreq = nodfreq, outfile = chopnod_filename )"
   ]
  },
  {
   "cell_type": "markdown",
   "id": "4c57ac02",
   "metadata": {},
   "source": [
    "The cell below provides a preview, with optional masking:"
   ]
  },
  {
   "cell_type": "code",
   "execution_count": null,
   "id": "b006944b",
   "metadata": {},
   "outputs": [],
   "source": [
    "# Set bool specifying whether you want to apply bad pixel mask created above to the plotted figures\n",
    "plot_with_mask = False\n",
    "\n",
    "\n",
    "\n",
    "## Run for image preview only; no editing needed ##\n",
    "conf = configparser.ConfigParser()\n",
    "_ = conf.read(config_file)\n",
    "reduce_outpath = conf['REDUCTION']['reduce_outpath']\n",
    "cn_data = fits.getdata( os.path.join(reduce_outpath,chopnod_filename), 0 )\n",
    "if plot_with_mask:\n",
    "    mask = fits.getdata( bp_filename, 0 )\n",
    "    cn_data = np.ma.masked_array( cn_data, mask=mask )\n",
    "    cn_data = cn_data.filled( np.nan )\n",
    "fig, ax = P.subplots(figsize = (9,7))\n",
    "im = ax.imshow( cn_data, origin='lower' )\n",
    "fig.colorbar(im, ax=ax)\n",
    "\n",
    "\n",
    "# Use this section to specify the x/y axis limits on the figure\n",
    "# xlim = [ 462, 562 ]\n",
    "# ylim = [ 462, 562 ]\n",
    "# ax.set_xlim( xlim[0], xlim[1] )\n",
    "# ax.set_ylim( ylim[0], ylim[1] )"
   ]
  },
  {
   "cell_type": "markdown",
   "id": "0856c8e0",
   "metadata": {},
   "source": [
    "If you know the chop/nod throw, in pixels, you can recombine the image here:"
   ]
  },
  {
   "cell_type": "code",
   "execution_count": null,
   "id": "231c2963",
   "metadata": {},
   "outputs": [],
   "source": [
    "# Assumes parallel chop/nod throws, where chop-1-nod-A and chop-2-nod-B are at the same location. \n",
    "# Specify the throw of one of the two negative chop/nod positions with respect 1A/2B position as [dx, dy], in pix, \n",
    "#    where a positive dx value indicates that the negative source imprint is to the right of the positive source\n",
    "#    The other negative imprint will be assumed to be the opposite direction from the positive central source\n",
    "offset = [ , ]\n",
    "\n",
    "# combines frames, but does *not* trim around the positive source\n",
    "frame_dy = cn_data.shape[0] - abs( 2*offset[1] )\n",
    "frame_dx = cn_data.shape[1] - abs( 2*offset[0] )\n",
    "x0 = abs(offset[0]); y0 = abs(offset[1])\n",
    "recomb_frame =   cn_data[ y0 : frame_dy+y0, x0 : frame_dx+x0 ] - \\\n",
    "                 cn_data[ y0+offset[1] : frame_dy+y0+offset[1], x0+offset[0] : frame_dx+x0+offset[0] ] - \\\n",
    "                 cn_data[ y0-offset[1] : frame_dy+y0-offset[1], x0-offset[0] : frame_dx+x0-offset[0] ]\n",
    "print('Recombined image array is (y,x) = {0}'.format(recomb_frame.shape))\n",
    "\n",
    "# Plots recombined frame\n",
    "fig, ax = P.subplots(figsize = (9,7))\n",
    "im = ax.imshow( recomb_frame, origin='lower' )\n",
    "fig.colorbar(im, ax=ax)\n",
    "\n",
    "# Use this section to zoom into where your source is in the image\n",
    "# xlim = [ 412, 512 ]\n",
    "# ylim = [ 457, 557 ]\n",
    "# ax.set_xlim( xlim[0], xlim[1] )\n",
    "# ax.set_ylim( ylim[0], ylim[1] )"
   ]
  },
  {
   "cell_type": "markdown",
   "id": "43e2d0a9",
   "metadata": {},
   "source": [
    "<a id=\"reduce-staring\"></a>\n",
    "## Reduce Staring Mode Observations\n",
    "\n",
    "While not yet implemented in `mirac5reduce` in a fully automated way, staring mode observations can be performed by manually applying the calibration files created above.\n",
    "\n",
    "First, *create a mean dark file, a bad pixel file, and a flatfield file* using the appropriate sections above. \n",
    "\n",
    "Note: It is assumed that all file types have the same integration time!\n",
    "\n",
    "Then use the following cell to calculate the mean frame of your staring mode data, subtract the mean dark, and divide by the flatfield:"
   ]
  },
  {
   "cell_type": "code",
   "execution_count": null,
   "id": "a743f4bf",
   "metadata": {},
   "outputs": [],
   "source": [
    "# Enter the start and end file numbers (inclusive) of the range of raw staring mode files\n",
    "raw_data_startno = \n",
    "raw_data_endno   = \n",
    "\n",
    "# Enter the names of your mean dark file, bad pix mask file, and flatfield file. They should all be \n",
    "#     saved in your calib_outpath\n",
    "mean_dark_filename = 'dark_{0}_{1}.fits'.format( raw_dark_startno, raw_dark_endno )\n",
    "bp_filename        = 'bpmask_{0}_{1}.fits'.format( raw_dark_startno, raw_dark_endno )\n",
    "flatfield_filename = 'flatfield_{0}_{1}.fits'.format( raw_flat_startno, raw_flat_endno )\n",
    "\n",
    "# Enter the name of the (FITS) file for the uncorrected mean data frame and the corrected mean data frame, resp.\n",
    "#     Both will be saved to your reduce_outpath.\n",
    "mean_rawdata_filename = 'staring_raw_{0}_{1}.fits'.format( raw_data_startno, raw_data_endno )\n",
    "staring_data_filename = 'staring_reduced_{0}_{1}.fits'.format( raw_data_startno, raw_data_endno )\n",
    "\n",
    "# Then calculate and save the mean raw frame. Turns on debugging mode to echo the parameters provided.\n",
    "combine_frames.meanframe( config_file, 'obs', logfile = logfile, debug = True,\n",
    "                          startno = raw_data_startno, endno = raw_data_endno, outfile = mean_rawdata_filename )\n",
    "\n",
    "\n",
    "## Loads in raw mean file produced and manually applies dark subtraction and flatfield ##\n",
    "conf = configparser.ConfigParser()\n",
    "_ = conf.read(config_file)\n",
    "calib_outpath  = conf['CALIB']['calib_outpath']\n",
    "reduce_outpath = conf['REDUCTION']['reduce_outpath']\n",
    "raw_staring_frame = fits.getdata( os.path.join(reduce_outpath,mean_rawdata_filename), 0 )\n",
    "mean_dark_frame   = fits.getdata( os.path.join( calib_outpath,mean_dark_filename   ), 0 )\n",
    "bpmask_frame      = fits.getdata( os.path.join( calib_outpath,bp_filename          ), 0 )\n",
    "flatfield_frame   = fits.getdata( os.path.join( calib_outpath,flatfield_filename   ), 0 )\n",
    "red_staring_frame = ( raw_staring_frame - mean_dark_frame ) / flatfield_frame\n",
    "red_staring_frame = np.ma.masked_array( red_staring_frame, mask = bpmask_frame )\n",
    "red_staring_frame = red_staring_frame.filled( np.nan )\n",
    "hdu = fits.PrimaryHDU( red_staring_frame )\n",
    "hdu.header['FILETYPE'] =   'Staring Reduct'\n",
    "hdu.header['NFRAMES' ] = ( raw_data_endno-raw_data_startno , 'Number raw flat frames used'         )\n",
    "hdu.header['STARTNO' ] = ( raw_data_startno                , 'First file number of obs data range' )\n",
    "hdu.header['ENDNO'   ] = ( raw_data_endno                  , 'Last file number of obs data range'  )\n",
    "hdu.header['DARKFILE'] = ( mean_dark_filename              , 'Dark file used'                      )\n",
    "hdu.header['MASKFILE'] = ( bp_filename                     , 'Bad Pixel Mask file used'            )\n",
    "hdu.header['FLFDFILE'] = ( flatfield_filename              , 'Flatfield file used'                 )\n",
    "hdu.writeto( os.path.join( reduce_outpath, staring_data_filename ) )\n",
    "\n",
    "# Plots reduced data \n",
    "fig, ax = P.subplots(figsize = (9,7))\n",
    "im = ax.imshow( red_staring_frame, origin='lower' )\n",
    "fig.colorbar(im, ax=ax)\n",
    "\n",
    "# Use this section to zoom into where your source is in the image\n",
    "# xlim = [ 400, 600 ]\n",
    "# ylim = [ 400, 600 ]\n",
    "# ax.set_xlim( xlim[0], xlim[1] )\n",
    "# ax.set_ylim( ylim[0], ylim[1] )"
   ]
  },
  {
   "cell_type": "code",
   "execution_count": null,
   "id": "262b2950",
   "metadata": {},
   "outputs": [],
   "source": []
  }
 ],
 "metadata": {
  "kernelspec": {
   "display_name": "Python 3 (ipykernel)",
   "language": "python",
   "name": "python3"
  },
  "language_info": {
   "codemirror_mode": {
    "name": "ipython",
    "version": 3
   },
   "file_extension": ".py",
   "mimetype": "text/x-python",
   "name": "python",
   "nbconvert_exporter": "python",
   "pygments_lexer": "ipython3",
   "version": "3.9.12"
  }
 },
 "nbformat": 4,
 "nbformat_minor": 5
}
